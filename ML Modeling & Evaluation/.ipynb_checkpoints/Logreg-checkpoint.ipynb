{
 "cells": [
  {
   "cell_type": "code",
   "execution_count": 11,
   "metadata": {},
   "outputs": [],
   "source": [
    "import pandas as pd\n",
    "import numpy as np\n",
    "from sklearn.linear_model import LogisticRegression\n",
    "from sklearn.model_selection import train_test_split\n",
    "from sklearn.metrics import accuracy_score"
   ]
  },
  {
   "cell_type": "markdown",
   "metadata": {},
   "source": [
    "# Models\n",
    "In this section different machine learning algorihms will be evaluated and compared. First I splitted data before any models to have better comparison among models via same traning and same test data."
   ]
  },
  {
   "cell_type": "code",
   "execution_count": 2,
   "metadata": {},
   "outputs": [],
   "source": [
    "df = pd.read_csv('prepeddata.csv')"
   ]
  },
  {
   "cell_type": "code",
   "execution_count": 5,
   "metadata": {},
   "outputs": [],
   "source": [
    "X = df.drop('TenYearCHD', 1)\n",
    "yval =df['TenYearCHD']"
   ]
  },
  {
   "cell_type": "code",
   "execution_count": 6,
   "metadata": {},
   "outputs": [],
   "source": [
    "Xtr, Xts, ytr, yts = train_test_split(rdf, yval, test_size=0.3)"
   ]
  },
  {
   "cell_type": "markdown",
   "metadata": {},
   "source": [
    "## Logistic Regression"
   ]
  },
  {
   "cell_type": "code",
   "execution_count": 7,
   "metadata": {},
   "outputs": [
    {
     "data": {
      "text/plain": [
       "LogisticRegression(max_iter=10000)"
      ]
     },
     "execution_count": 7,
     "metadata": {},
     "output_type": "execute_result"
    }
   ],
   "source": [
    "model = LogisticRegression(max_iter = 10000)\n",
    "model.fit(Xtr, ytr)"
   ]
  },
  {
   "cell_type": "code",
   "execution_count": 9,
   "metadata": {},
   "outputs": [],
   "source": [
    "predictionmodel = model.predict(Xtr)\n",
    "predictiontest = model.predict(Xts)"
   ]
  },
  {
   "cell_type": "code",
   "execution_count": 12,
   "metadata": {},
   "outputs": [
    {
     "name": "stdout",
     "output_type": "stream",
     "text": [
      "Training Accuracy:\n",
      "0.8471462079749804\n",
      "{0: 2532, 1: 26}\n",
      "Training Accuracy on Test Data:\n",
      "0.8523245214220602\n",
      "{0: 1086, 1: 11}\n"
     ]
    }
   ],
   "source": [
    "print('Training Accuracy:')\n",
    "print(accuracy_score(predictionmodel, ytr))\n",
    "unique, counts = np.unique(predictionmodel, return_counts=True)\n",
    "print(dict(zip(unique, counts)))\n",
    "print('Training Accuracy on Test Data:')\n",
    "print(accuracy_score(predictiontest, yts))\n",
    "unique, counts = np.unique(predictiontest, return_counts=True)\n",
    "print(dict(zip(unique, counts)))"
   ]
  },
  {
   "cell_type": "markdown",
   "metadata": {},
   "source": [
    "## Normalization"
   ]
  },
  {
   "cell_type": "code",
   "execution_count": 24,
   "metadata": {},
   "outputs": [],
   "source": [
    "from sklearn import preprocessing\n",
    "normalized = preprocessing.normalize(X)"
   ]
  },
  {
   "cell_type": "markdown",
   "metadata": {},
   "source": [
    "## PCA"
   ]
  },
  {
   "cell_type": "code",
   "execution_count": 34,
   "metadata": {},
   "outputs": [
    {
     "data": {
      "text/plain": [
       "(3655, 2)"
      ]
     },
     "execution_count": 34,
     "metadata": {},
     "output_type": "execute_result"
    }
   ],
   "source": [
    "from sklearn.decomposition import PCA\n",
    "pca = PCA(n_components=2)\n",
    "pca.fit(X)\n",
    "Xn = pca.transform(X)\n",
    "pca.fit(normalized)\n",
    "X = pca.transform(normalized)\n",
    "Xn.shape"
   ]
  },
  {
   "cell_type": "code",
   "execution_count": 35,
   "metadata": {},
   "outputs": [],
   "source": [
    "pcadf = pd.DataFrame(data=np.c_[Xn, yval], columns=['Feature 1', 'Feature 2', 'Label'])\n",
    "pcadf2 = pd.DataFrame(data=np.c_[X, yval], columns=['Feature 1', 'Feature 2', 'Label'])"
   ]
  },
  {
   "cell_type": "code",
   "execution_count": 36,
   "metadata": {},
   "outputs": [],
   "source": [
    "X_train, X_test, y_train, y_test = train_test_split(Xn, yval, test_size=0.3, random_state=0)"
   ]
  },
  {
   "cell_type": "code",
   "execution_count": 37,
   "metadata": {},
   "outputs": [
    {
     "data": {
      "text/plain": [
       "LogisticRegression()"
      ]
     },
     "execution_count": 37,
     "metadata": {},
     "output_type": "execute_result"
    }
   ],
   "source": [
    "model2 = LogisticRegression()\n",
    "model2.fit(X_train, y_train)"
   ]
  },
  {
   "cell_type": "code",
   "execution_count": 38,
   "metadata": {},
   "outputs": [
    {
     "name": "stdout",
     "output_type": "stream",
     "text": [
      "Training Accuracy:\n",
      "0.8440187646598906\n",
      "{0: 2558}\n",
      "Training Accuracy on Test Data:\n",
      "0.8577939835916135\n",
      "{0: 1096, 1: 1}\n"
     ]
    }
   ],
   "source": [
    "predictstrain = model2.predict(X_train)\n",
    "print('Training Accuracy:')\n",
    "print(accuracy_score(predictstrain, y_train))\n",
    "unique, counts = np.unique(predictstrain, return_counts=True)\n",
    "print(dict(zip(unique, counts)))\n",
    "predictstest = model2.predict(X_test)\n",
    "print('Training Accuracy on Test Data:')\n",
    "print(accuracy_score(predictstest, y_test))\n",
    "unique, counts = np.unique(predictstest, return_counts=True)\n",
    "print(dict(zip(unique, counts)))"
   ]
  },
  {
   "cell_type": "code",
   "execution_count": 39,
   "metadata": {},
   "outputs": [],
   "source": [
    "X_train, X_test, y_train, y_test = train_test_split(X, yval, test_size=0.3, random_state=0)"
   ]
  },
  {
   "cell_type": "code",
   "execution_count": 40,
   "metadata": {},
   "outputs": [
    {
     "name": "stdout",
     "output_type": "stream",
     "text": [
      "Training Accuracy:\n",
      "0.8440187646598906\n",
      "{0: 2558}\n",
      "Training Accuracy on Test Data:\n",
      "0.8568824065633546\n",
      "{0: 1097}\n"
     ]
    }
   ],
   "source": [
    "predictstrain = model2.predict(X_train)\n",
    "print('Training Accuracy:')\n",
    "print(accuracy_score(predictstrain, y_train))\n",
    "unique, counts = np.unique(predictstrain, return_counts=True)\n",
    "print(dict(zip(unique, counts)))\n",
    "predictstest = model2.predict(X_test)\n",
    "print('Training Accuracy on Test Data:')\n",
    "print(accuracy_score(predictstest, y_test))\n",
    "unique, counts = np.unique(predictstest, return_counts=True)\n",
    "print(dict(zip(unique, counts)))"
   ]
  },
  {
   "cell_type": "markdown",
   "metadata": {},
   "source": [
    "Dimentionality reduction did not help for solving the problem. Original Logistic Regression model is best solution so far."
   ]
  },
  {
   "cell_type": "code",
   "execution_count": null,
   "metadata": {},
   "outputs": [],
   "source": []
  }
 ],
 "metadata": {
  "kernelspec": {
   "display_name": "Python 3",
   "language": "python",
   "name": "python3"
  },
  "language_info": {
   "codemirror_mode": {
    "name": "ipython",
    "version": 3
   },
   "file_extension": ".py",
   "mimetype": "text/x-python",
   "name": "python",
   "nbconvert_exporter": "python",
   "pygments_lexer": "ipython3",
   "version": "3.8.3"
  }
 },
 "nbformat": 4,
 "nbformat_minor": 4
}
